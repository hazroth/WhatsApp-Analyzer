{
 "cells": [
  {
   "cell_type": "code",
   "execution_count": null,
   "metadata": {},
   "outputs": [],
   "source": [
    "import matplotlib.pyplot as plt\n",
    "import pandas as pd\n",
    "import seaborn as sns"
   ]
  },
  {
   "cell_type": "code",
   "execution_count": null,
   "metadata": {},
   "outputs": [],
   "source": [
    "from textblob import TextBlob\n",
    "from nltk.corpus import stopwords\n",
    "from nltk.corpus import names\n",
    "import json\n",
    "import re\n",
    "from wordcloud import WordCloud\n",
    "import plotly.express as px\n",
    "import plotly.graph_objects as go\n",
    "import plotly as py\n",
    "import emoji\n",
    "from IPython.display import Markdown as md"
   ]
  },
  {
   "cell_type": "code",
   "execution_count": null,
   "metadata": {},
   "outputs": [],
   "source": [
    "from pandas.plotting import register_matplotlib_converters\n",
    "register_matplotlib_converters()"
   ]
  },
  {
   "cell_type": "code",
   "execution_count": null,
   "metadata": {},
   "outputs": [],
   "source": [
    "with open('settings.json', 'r') as f:\n",
    "    settings = json.load(f)\n",
    "    \n",
    "chatPath = settings[\"chatPath\"]\n",
    "sentimentAnalysis = settings[\"sentiment\"]\n",
    "json = settings[\"json\"]\n",
    "csv = settings[\"csv\"]\n",
    "includeNames = settings[\"includeNames\"]\n",
    "excludeNames = settings[\"excludeNames\"]"
   ]
  },
  {
   "cell_type": "code",
   "execution_count": null,
   "metadata": {},
   "outputs": [],
   "source": [
    "with open(chatPath, encoding=\"utf-8\") as fp:\n",
    "    split = re.findall('\\d+.\\d+.\\d+, \\d+:\\d+ - .*', fp.read())\n",
    "    parsedData = []\n",
    "    for x in split:\n",
    "        TimeMessageSplit = x.split(' - ')\n",
    "        TimeDateSplit = TimeMessageSplit[0].split(', ')\n",
    "        MessageAuthorSplit = TimeMessageSplit[1].split(': ')\n",
    "        if len(MessageAuthorSplit) == 1:\n",
    "            Author = None\n",
    "            Message = MessageAuthorSplit[0]\n",
    "        else:\n",
    "            Author = MessageAuthorSplit[0]\n",
    "            Message = MessageAuthorSplit[1]\n",
    "        parsedData.append([TimeDateSplit[0], TimeDateSplit[1], Author, Message])"
   ]
  },
  {
   "cell_type": "code",
   "execution_count": null,
   "metadata": {},
   "outputs": [],
   "source": [
    "df = pd.DataFrame(parsedData, columns=['Date', 'Time', 'Author', 'Message'])"
   ]
  },
  {
   "cell_type": "code",
   "execution_count": null,
   "metadata": {},
   "outputs": [],
   "source": [
    "df['Length'] = (df['Message'].dropna()).apply(lambda x : len(x))\n",
    "df[\"Author\"] = df[\"Author\"].replace(to_replace=r'[+].*', value='Others', regex=True)\n",
    "if sentimentAnalysis: df['Sentiment Polarity'] = (df['Message'].dropna()).apply(lambda x : TextBlob(x).sentiment.polarity)\n",
    "if sentimentAnalysis: df['Sentiment Subjectivity'] = (df['Message'].dropna()).apply(lambda x : TextBlob(x).sentiment.subjectivity)\n",
    "df['Date'] = pd.to_datetime(df['Date'],format=\"%m.%d.%y\")\n",
    "df = df.dropna()"
   ]
  },
  {
   "cell_type": "code",
   "execution_count": null,
   "metadata": {},
   "outputs": [],
   "source": [
    "text = \"\\n\".join(df[df[\"Message\"]!=\"<Medien ausgeschlossen>\"][\"Message\"])"
   ]
  },
  {
   "cell_type": "markdown",
   "metadata": {},
   "source": [
    "# WordCounts\n",
    "## As a Barplot:"
   ]
  },
  {
   "cell_type": "code",
   "execution_count": null,
   "metadata": {},
   "outputs": [],
   "source": [
    "sw = stopwords.words(\"english\")\n",
    "\n",
    "filtered = {}\n",
    "customFilter = [\"n't\", \"https\"]\n",
    "blob = TextBlob(text)\n",
    "wordCounts = blob.word_counts\n",
    "for x in wordCounts:\n",
    "    if x not in sw and x not in customFilter and x not in emoji.UNICODE_EMOJI: \n",
    "        filtered[x] = wordCounts[x]\n",
    "\n",
    "sortedCounts = pd.DataFrame(sorted(filtered.items(), reverse=True, key=lambda item: item[1]), columns=[\"Word\",\"Count\"])\n",
    "sns.set_context(\"talk\")\n",
    "sns.set(rc={'figure.figsize':(15,15)})\n",
    "sns.barplot(data=sortedCounts.head(30), orient=\"h\" ,y=\"Word\", x=\"Count\")"
   ]
  },
  {
   "cell_type": "markdown",
   "metadata": {},
   "source": [
    "## As a Wordcloud:"
   ]
  },
  {
   "cell_type": "code",
   "execution_count": null,
   "metadata": {},
   "outputs": [],
   "source": [
    "filtered = \"\"\n",
    "for x in blob.words:\n",
    "    if x.lower() not in sw and x.lower() not in sw2 and x.lower() not in customFilter and x not in emoji.UNICODE_EMOJI: \n",
    "        filtered = filtered + \" \" + x"
   ]
  },
  {
   "cell_type": "code",
   "execution_count": null,
   "metadata": {},
   "outputs": [],
   "source": [
    "import matplotlib.pyplot as plt\n",
    "wordcloud = WordCloud(width=1600, height=800).generate(filtered)\n",
    "plt.figure( figsize=(20,10))\n",
    "plt.imshow(wordcloud)\n",
    "plt.axis(\"off\")"
   ]
  },
  {
   "cell_type": "markdown",
   "metadata": {},
   "source": [
    "# Which Names were mentioned most"
   ]
  },
  {
   "cell_type": "code",
   "execution_count": null,
   "metadata": {},
   "outputs": [],
   "source": [
    "maleNames = list(map(lambda x:x.lower(), names.words('male.txt')))\n",
    "femaleNames = list(map(lambda x:x.lower(), names.words('female.txt')))"
   ]
  },
  {
   "cell_type": "code",
   "execution_count": null,
   "metadata": {},
   "outputs": [],
   "source": [
    "import spacy\n",
    "\n",
    "nlp = spacy.load(\"de_core_news_sm\")\n",
    "\n",
    "import numpy as np\n",
    "\n",
    "df_NoMedia = df.replace(\"<Medien ausgeschlossen>\", np.NaN).dropna()\n",
    "df_NoMedia['Tags'] = df[\"Message\"].apply(lambda x : [(token.text,token.label_) for token in nlp(x).ents])"
   ]
  },
  {
   "cell_type": "code",
   "execution_count": null,
   "metadata": {},
   "outputs": [],
   "source": [
    "nameList = []\n",
    "\n",
    "for x in df_NoMedia[\"Tags\"]:\n",
    "    for y in x:\n",
    "        if y[1] == \"PER\":\n",
    "            for z in str(y[0]).split(\" \"):\n",
    "                if z.lower() in (maleNames + femaleNames + includeNames) and z.lower() not in excludeNames:\n",
    "                    nameList.append(z.capitalize())"
   ]
  },
  {
   "cell_type": "code",
   "execution_count": null,
   "metadata": {},
   "outputs": [],
   "source": [
    "import collections\n",
    "counter = collections.Counter(nameList)"
   ]
  },
  {
   "cell_type": "code",
   "execution_count": null,
   "metadata": {
    "scrolled": false
   },
   "outputs": [],
   "source": [
    "counter_sorted = sorted(counter.items(), reverse=True, key=lambda item: item[1])\n",
    "df_Names_sorted = pd.DataFrame(counter_sorted, columns=[\"Word\",\"Count\"])\n",
    "\n",
    "sns.set_context(\"talk\")\n",
    "sns.set(rc={'figure.figsize':(15,15)})\n",
    "sns.barplot(data=df_Names_sorted.head(30), orient=\"h\" ,y=\"Word\", x=\"Count\")"
   ]
  },
  {
   "cell_type": "markdown",
   "metadata": {},
   "source": [
    "# The Most used Emojis Are:"
   ]
  },
  {
   "cell_type": "code",
   "execution_count": null,
   "metadata": {},
   "outputs": [],
   "source": [
    "import emoji\n",
    "from collections import Counter\n",
    "import re as regex\n",
    "import demoji\n",
    "\n",
    "test2 = list()\n",
    "\n",
    "for x in df[\"Message\"]:\n",
    "    y = demoji.findall(x)\n",
    "    if y != {}: \n",
    "        for z in y.keys():\n",
    "            test2.append([z] * x.count(z))\n",
    "            \n",
    "flat_list = [item for sublist in test2 for item in sublist]\n",
    "    \n",
    "#emojiCounts = TextBlob(split_count(blob.words)).word_counts"
   ]
  },
  {
   "cell_type": "code",
   "execution_count": null,
   "metadata": {
    "scrolled": false
   },
   "outputs": [],
   "source": [
    "sortedCounts = sorted(Counter(flat_list).items(), reverse=True, key=lambda item: item[1])\n",
    "markdown = \"| Emoji | Description | Amount |\" + \"\\n\" + \"| --- | --- | --- |\"\n",
    "for x in sortedCounts[:10]:\n",
    "    markdown = markdown + \"\\n\" + \"\" + str(x[0]) + \"|\" + str(demoji.findall(x[0]).get(x[0])) + \"|\" + str(x[1])\n",
    "md(markdown)"
   ]
  },
  {
   "cell_type": "code",
   "execution_count": null,
   "metadata": {},
   "outputs": [],
   "source": [
    "Output = \"\\n\"\n",
    "if sentimentAnalysis: \n",
    "    Output = \"# Sentiment Analysis \\n ## Polarity\"\n",
    "    \n",
    "md(Output)"
   ]
  },
  {
   "cell_type": "code",
   "execution_count": null,
   "metadata": {},
   "outputs": [],
   "source": [
    "if sentimentAnalysis:\n",
    "    sns.distplot(df[\"Sentiment Polarity\"])\n",
    "    plt.ylim(top=2)"
   ]
  },
  {
   "cell_type": "code",
   "execution_count": null,
   "metadata": {},
   "outputs": [],
   "source": [
    "Output = \"\\n\"\n",
    "if sentimentAnalysis: \n",
    "    Output = \"## Subjectivity\"\n",
    "    \n",
    "md(Output)"
   ]
  },
  {
   "cell_type": "code",
   "execution_count": null,
   "metadata": {},
   "outputs": [],
   "source": [
    "if sentimentAnalysis:\n",
    "    sns.distplot(df[\"Sentiment Subjectivity\"])\n",
    "    plt.ylim(top=2)"
   ]
  },
  {
   "cell_type": "markdown",
   "metadata": {},
   "source": [
    "# At which hour of the day were the most messages sent"
   ]
  },
  {
   "cell_type": "code",
   "execution_count": null,
   "metadata": {},
   "outputs": [],
   "source": [
    "df['Hour'] = (df['Time'].dropna()).apply(lambda x : x.split(':')[0])\n",
    "times = pd.DataFrame(df[\"Hour\"].value_counts())\n",
    "times.rename(columns={'Hour':'Count'}, \n",
    "                 inplace=True)\n",
    "times[\"Hour\"] = times.index\n",
    "times[\"Normalized\"] = times[\"Count\"]/(times[\"Count\"].sum()) * 100"
   ]
  },
  {
   "cell_type": "code",
   "execution_count": null,
   "metadata": {},
   "outputs": [],
   "source": [
    "md(f\"The most Messages were sent at **{int(times[times.Count == times.max()['Count']]['Hour'])}** o'clock with **{round(times.max()['Normalized'], 2)}** Percent and **{int(times.max()['Count'])}** Messages\")"
   ]
  },
  {
   "cell_type": "code",
   "execution_count": null,
   "metadata": {},
   "outputs": [],
   "source": [
    "sns.lineplot(data=times ,x=\"Hour\", y=\"Normalized\")\n",
    "plt.xlabel(\"Hour of the Day\")\n",
    "plt.ylabel(\"Percentage of Messages Sent\")"
   ]
  },
  {
   "cell_type": "code",
   "execution_count": null,
   "metadata": {},
   "outputs": [],
   "source": [
    "dates = pd.DataFrame(df[\"Date\"].value_counts())\n",
    "dates.head()\n",
    "dates.rename(columns={'Date':'Count'}, \n",
    "                 inplace=True)\n",
    "dates[\"Date\"] = dates.index\n",
    "dates = dates.sort_values(by='Date')"
   ]
  },
  {
   "cell_type": "markdown",
   "metadata": {},
   "source": [
    "# And how much You wrote at any given Day"
   ]
  },
  {
   "cell_type": "code",
   "execution_count": null,
   "metadata": {},
   "outputs": [],
   "source": [
    "md(f\"The most Messages were sent at **{dates[dates.Count == dates.max()['Count']]['Date'][0].strftime('%d.%b.%Y')}** with **{dates[dates.Count == dates.max()['Count']]['Count'][0]}** Messages\" )"
   ]
  },
  {
   "cell_type": "code",
   "execution_count": null,
   "metadata": {},
   "outputs": [],
   "source": [
    "md(f\"\\n While your average was **{int(round(dates['Count'].mean()))}** Messages per Day\")"
   ]
  },
  {
   "cell_type": "code",
   "execution_count": null,
   "metadata": {},
   "outputs": [],
   "source": [
    "md(f\"\\n And your Median was **{int(round(dates['Count'].median()))}** Messages per Day\")"
   ]
  },
  {
   "cell_type": "code",
   "execution_count": null,
   "metadata": {},
   "outputs": [],
   "source": [
    "fig = px.line(dates, x=\"Date\", y=\"Count\", title='Messages Sent per Date')\n",
    "fig.show()"
   ]
  },
  {
   "cell_type": "markdown",
   "metadata": {},
   "source": [
    "# Who sends the most Messages"
   ]
  },
  {
   "cell_type": "code",
   "execution_count": null,
   "metadata": {},
   "outputs": [],
   "source": [
    "authorcounts = df[\"Author\"].value_counts().rename_axis('Names').reset_index(name='Values')\n",
    "authorcounts.head()\n",
    "fig = go.Figure(data=[go.Pie(labels=authorcounts[\"Names\"], values=authorcounts[\"Values\"] ,hole=.3)])\n",
    "fig.show()"
   ]
  },
  {
   "cell_type": "markdown",
   "metadata": {},
   "source": [
    "## Who sends the most media"
   ]
  },
  {
   "cell_type": "code",
   "execution_count": null,
   "metadata": {},
   "outputs": [],
   "source": [
    "mediaCounts = df[df.Message == \"<Medien ausgeschlossen>\"][\"Author\"].value_counts().rename_axis('Names').reset_index(name='Values')\n",
    "fig = go.Figure(data=[go.Pie(labels=mediaCounts[\"Names\"], values=mediaCounts[\"Values\"] ,hole=.3)])\n",
    "fig.show()"
   ]
  },
  {
   "cell_type": "markdown",
   "metadata": {},
   "source": [
    "## Who sends the longest Messages"
   ]
  },
  {
   "cell_type": "code",
   "execution_count": null,
   "metadata": {},
   "outputs": [],
   "source": [
    "df[\"Message\"] = df[\"Message\"].replace(\"<Medien ausgeschlossen>\" , None)\n",
    "df = df.dropna()"
   ]
  },
  {
   "cell_type": "code",
   "execution_count": null,
   "metadata": {},
   "outputs": [],
   "source": [
    "md(f\"The mean length of a message is **{round(df['Length'].mean(), 2)}** characters while the median is **{df['Length'].median()}**\")"
   ]
  },
  {
   "cell_type": "code",
   "execution_count": null,
   "metadata": {},
   "outputs": [],
   "source": [
    "df.groupby([\"Author\"])[\"Length\"].mean().plot(kind='bar')"
   ]
  },
  {
   "cell_type": "code",
   "execution_count": null,
   "metadata": {},
   "outputs": [],
   "source": [
    "if csv:\n",
    "    df.to_csv(\"Main.csv\")\n",
    "    authorcounts.to_csv(\"AuthorCounts.csv\")\n",
    "    times.to_csv(\"times.csv\")\n",
    "    dates.to_csv(\"dates.csv\")\n",
    "if json:\n",
    "    df.to_json(\"Main.json\")\n",
    "    authorcounts.to_json(\"AuthorCounts.json\")\n",
    "    times.to_json(\"times.json\")\n",
    "    dates.to_json(\"dates.json\")"
   ]
  },
  {
   "cell_type": "markdown",
   "metadata": {},
   "source": [
    "# And who answers who"
   ]
  },
  {
   "cell_type": "code",
   "execution_count": null,
   "metadata": {},
   "outputs": [],
   "source": [
    "df['AuthorID'] = pd.factorize(df.Author)[0]\n",
    "df[\"Answerer\"] = df.Author.shift(-1)\n",
    "df['AnswererID'] = df.AuthorID.shift(-1)\n",
    "fromTo = pd.DataFrame()\n",
    "fromTo = df.groupby(['AuthorID','AnswererID']).size().reset_index().rename(columns={0:'count'})"
   ]
  },
  {
   "cell_type": "code",
   "execution_count": null,
   "metadata": {},
   "outputs": [],
   "source": [
    "labels = []\n",
    "for x in ([df[\"Author\"].unique()] + [df[\"Author\"].unique()]):\n",
    "    for y in x:\n",
    "        labels.append(y)"
   ]
  },
  {
   "cell_type": "code",
   "execution_count": null,
   "metadata": {},
   "outputs": [],
   "source": [
    "import numpy as np\n",
    "\n",
    "authorAmount = len(df[\"Author\"].unique())\n",
    "snakeyGraph = True\n",
    "\n",
    "if authorAmount > 9:\n",
    "    snakeyGraph = False\n",
    "    print(\"Sadly the Graph is not supported for Groups with more than 9 Members\")"
   ]
  },
  {
   "cell_type": "code",
   "execution_count": null,
   "metadata": {},
   "outputs": [],
   "source": [
    "if snakeyGraph:\n",
    "    conditionsLong = [\n",
    "        (fromTo[\"AnswererID\"] == 0),\n",
    "        (fromTo['AnswererID'] == 1),\n",
    "        (fromTo['AnswererID'] == 2),\n",
    "        (fromTo['AnswererID'] == 3),\n",
    "        (fromTo[\"AnswererID\"] == 4),\n",
    "        (fromTo['AnswererID'] == 5),\n",
    "        (fromTo['AnswererID'] == 6),\n",
    "        (fromTo['AnswererID'] == 7),\n",
    "        (fromTo[\"AnswererID\"] == 8),\n",
    "        (fromTo['AnswererID'] == 9)]\n",
    "\n",
    "    conditions = conditionsLong[:authorAmount]\n",
    "\n",
    "    colors = ['rgb(31, 119, 180)', 'rgb(255, 127, 14)',\n",
    "                           'rgb(44, 160, 44)', 'rgb(214, 39, 40)',\n",
    "                           'rgb(148, 103, 189)', 'rgb(140, 86, 75)',\n",
    "                           'rgb(227, 119, 194)', 'rgb(127, 127, 127)',\n",
    "                           'rgb(188, 189, 34)', 'rgb(23, 190, 207)']\n",
    "    choices = colors[:authorAmount]\n",
    "\n",
    "    fromTo['color'] = np.select(conditions, choices, default='green')"
   ]
  },
  {
   "cell_type": "code",
   "execution_count": null,
   "metadata": {},
   "outputs": [],
   "source": [
    "if snakeyGraph:\n",
    "\n",
    "    import plotly.graph_objects as go\n",
    "\n",
    "    fig = go.Figure(data=[go.Sankey(\n",
    "        node = dict(\n",
    "          pad = 15,\n",
    "          thickness = 20,\n",
    "          line = dict(color = \"black\", width = 0.5),\n",
    "          label = labels,\n",
    "          color = choices),\n",
    "        link = dict(\n",
    "          source = fromTo[\"AuthorID\"],\n",
    "          target = fromTo[\"AnswererID\"],\n",
    "          value = fromTo[\"count\"],\n",
    "          color = fromTo[\"color\"]\n",
    "      ))])\n",
    "\n",
    "    fig.update_layout(title_text=\"Message Flow\", font_size=10)\n",
    "    fig.show()"
   ]
  }
 ],
 "metadata": {
  "kernelspec": {
   "display_name": "Python 3",
   "language": "python",
   "name": "python3"
  },
  "language_info": {
   "codemirror_mode": {
    "name": "ipython",
    "version": 3
   },
   "file_extension": ".py",
   "mimetype": "text/x-python",
   "name": "python",
   "nbconvert_exporter": "python",
   "pygments_lexer": "ipython3",
   "version": "3.8.1"
  }
 },
 "nbformat": 4,
 "nbformat_minor": 2
}